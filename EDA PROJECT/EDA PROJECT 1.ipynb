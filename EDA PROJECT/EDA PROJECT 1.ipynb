{
 "cells": [
  {
   "cell_type": "code",
   "execution_count": 183,
   "metadata": {},
   "outputs": [
    {
     "name": "stdout",
     "output_type": "stream",
     "text": [
      "       Accident_Index Accident Date Day_of_Week              Junction_Control  \\\n",
      "0       200901BS70001      1/1/2021    Thursday      Give way or uncontrolled   \n",
      "1       200901BS70002      1/5/2021      Monday      Give way or uncontrolled   \n",
      "2       200901BS70003      1/4/2021      Sunday      Give way or uncontrolled   \n",
      "3       200901BS70004      1/5/2021      Monday           Auto traffic signal   \n",
      "4       200901BS70005      1/6/2021     Tuesday           Auto traffic signal   \n",
      "...               ...           ...         ...                           ...   \n",
      "307968  201091NM01760     2/18/2022    Thursday  Data missing or out of range   \n",
      "307969  201091NM01881     2/21/2022      Sunday  Data missing or out of range   \n",
      "307970  201091NM01935     2/23/2022     Tuesday      Give way or uncontrolled   \n",
      "307971  201091NM01964     2/23/2022     Tuesday      Give way or uncontrolled   \n",
      "307972  201091NM02142     2/28/2022      Sunday      Give way or uncontrolled   \n",
      "\n",
      "                            Junction_Detail Accident_Severity   Latitude  \\\n",
      "0                   T or staggered junction           Serious  51.512273   \n",
      "1                                Crossroads           Serious  51.514399   \n",
      "2                   T or staggered junction            Slight  51.486668   \n",
      "3                   T or staggered junction           Serious  51.507804   \n",
      "4                                Crossroads           Serious  51.482076   \n",
      "...                                     ...               ...        ...   \n",
      "307968  Not at junction or within 20 metres            Slight  57.374005   \n",
      "307969  Not at junction or within 20 metres            Slight  57.232273   \n",
      "307970              T or staggered junction            Slight  57.585044   \n",
      "307971              T or staggered junction           Serious  57.214898   \n",
      "307972              T or staggered junction           Serious  57.575210   \n",
      "\n",
      "              Light_Conditions Local_Authority_(District)  \\\n",
      "0                     Daylight     Kensington and Chelsea   \n",
      "1                     Daylight     Kensington and Chelsea   \n",
      "2                     Daylight     Kensington and Chelsea   \n",
      "3                     Daylight     Kensington and Chelsea   \n",
      "4        Darkness - lights lit     Kensington and Chelsea   \n",
      "...                        ...                        ...   \n",
      "307968                Daylight                   Highland   \n",
      "307969  Darkness - no lighting                   Highland   \n",
      "307970                Daylight                   Highland   \n",
      "307971  Darkness - no lighting                   Highland   \n",
      "307972                Daylight                   Highland   \n",
      "\n",
      "         Carriageway_Hazards  ...  Number_of_Casualties  Number_of_Vehicles  \\\n",
      "0                       None  ...                     1                   2   \n",
      "1                       None  ...                    11                   2   \n",
      "2                       None  ...                     1                   2   \n",
      "3                       None  ...                     1                   2   \n",
      "4                       None  ...                     1                   2   \n",
      "...                      ...  ...                   ...                 ...   \n",
      "307968                  None  ...                     2                   1   \n",
      "307969                  None  ...                     1                   1   \n",
      "307970                  None  ...                     1                   3   \n",
      "307971                  None  ...                     1                   2   \n",
      "307972  Other object on road  ...                     1                   1   \n",
      "\n",
      "               Police_Force Road_Surface_Conditions           Road_Type  \\\n",
      "0       Metropolitan Police                     Dry      One way street   \n",
      "1       Metropolitan Police             Wet or damp  Single carriageway   \n",
      "2       Metropolitan Police                     Dry  Single carriageway   \n",
      "3       Metropolitan Police            Frost or ice  Single carriageway   \n",
      "4       Metropolitan Police                     Dry  Single carriageway   \n",
      "...                     ...                     ...                 ...   \n",
      "307968             Northern                     Dry  Single carriageway   \n",
      "307969             Northern            Frost or ice  Single carriageway   \n",
      "307970             Northern            Frost or ice  Single carriageway   \n",
      "307971             Northern             Wet or damp  Single carriageway   \n",
      "307972             Northern             Wet or damp    Dual carriageway   \n",
      "\n",
      "       Speed_limit   Time Urban_or_Rural_Area     Weather_Conditions  \\\n",
      "0               30  15:11               Urban     Fine no high winds   \n",
      "1               30  10:59               Urban     Fine no high winds   \n",
      "2               30  14:19               Urban     Fine no high winds   \n",
      "3               30   8:10               Urban                  Other   \n",
      "4               30  17:25               Urban     Fine no high winds   \n",
      "...            ...    ...                 ...                    ...   \n",
      "307968          60   7:00               Rural     Fine no high winds   \n",
      "307969          60   3:00               Rural     Fine no high winds   \n",
      "307970          30   9:38               Rural     Fine no high winds   \n",
      "307971          60  18:25               Rural     Fine no high winds   \n",
      "307972          60  15:45               Rural  Snowing no high winds   \n",
      "\n",
      "                 Vehicle_Type  \n",
      "0                         Car  \n",
      "1       Taxi/Private hire car  \n",
      "2       Taxi/Private hire car  \n",
      "3       Motorcycle over 500cc  \n",
      "4                         Car  \n",
      "...                       ...  \n",
      "307968                    Car  \n",
      "307969                    Car  \n",
      "307970                    Car  \n",
      "307971  Motorcycle over 500cc  \n",
      "307972                    Car  \n",
      "\n",
      "[307973 rows x 21 columns]\n"
     ]
    }
   ],
   "source": [
    "import pandas as pd\n",
    "d=pd.read_csv(r\"C:\\data analysis\\project\\Road Accident Data.csv\")\n",
    "print(d)"
   ]
  },
  {
   "cell_type": "code",
   "execution_count": null,
   "metadata": {},
   "outputs": [],
   "source": []
  },
  {
   "cell_type": "code",
   "execution_count": 184,
   "metadata": {},
   "outputs": [
    {
     "name": "stdout",
     "output_type": "stream",
     "text": [
      "<class 'pandas.core.frame.DataFrame'>\n",
      "RangeIndex: 307973 entries, 0 to 307972\n",
      "Data columns (total 21 columns):\n",
      " #   Column                      Non-Null Count   Dtype  \n",
      "---  ------                      --------------   -----  \n",
      " 0   Accident_Index              307973 non-null  object \n",
      " 1   Accident Date               307973 non-null  object \n",
      " 2   Day_of_Week                 307973 non-null  object \n",
      " 3   Junction_Control            307973 non-null  object \n",
      " 4   Junction_Detail             307973 non-null  object \n",
      " 5   Accident_Severity           307973 non-null  object \n",
      " 6   Latitude                    307973 non-null  float64\n",
      " 7   Light_Conditions            307973 non-null  object \n",
      " 8   Local_Authority_(District)  307973 non-null  object \n",
      " 9   Carriageway_Hazards         307970 non-null  object \n",
      " 10  Longitude                   307973 non-null  float64\n",
      " 11  Number_of_Casualties        307973 non-null  int64  \n",
      " 12  Number_of_Vehicles          307973 non-null  int64  \n",
      " 13  Police_Force                307973 non-null  object \n",
      " 14  Road_Surface_Conditions     307656 non-null  object \n",
      " 15  Road_Type                   306439 non-null  object \n",
      " 16  Speed_limit                 307973 non-null  int64  \n",
      " 17  Time                        307956 non-null  object \n",
      " 18  Urban_or_Rural_Area         307973 non-null  object \n",
      " 19  Weather_Conditions          301916 non-null  object \n",
      " 20  Vehicle_Type                307973 non-null  object \n",
      "dtypes: float64(2), int64(3), object(16)\n",
      "memory usage: 49.3+ MB\n"
     ]
    }
   ],
   "source": [
    "d.info()"
   ]
  },
  {
   "cell_type": "code",
   "execution_count": 185,
   "metadata": {},
   "outputs": [
    {
     "name": "stdout",
     "output_type": "stream",
     "text": [
      "<class 'pandas.core.frame.DataFrame'>\n",
      "RangeIndex: 1000 entries, 0 to 999\n",
      "Data columns (total 21 columns):\n",
      " #   Column                      Non-Null Count  Dtype  \n",
      "---  ------                      --------------  -----  \n",
      " 0   Accident_Index              1000 non-null   object \n",
      " 1   Accident Date               1000 non-null   object \n",
      " 2   Day_of_Week                 1000 non-null   object \n",
      " 3   Junction_Control            1000 non-null   object \n",
      " 4   Junction_Detail             1000 non-null   object \n",
      " 5   Accident_Severity           1000 non-null   object \n",
      " 6   Latitude                    1000 non-null   float64\n",
      " 7   Light_Conditions            1000 non-null   object \n",
      " 8   Local_Authority_(District)  1000 non-null   object \n",
      " 9   Carriageway_Hazards         1000 non-null   object \n",
      " 10  Longitude                   1000 non-null   float64\n",
      " 11  Number_of_Casualties        1000 non-null   int64  \n",
      " 12  Number_of_Vehicles          1000 non-null   int64  \n",
      " 13  Police_Force                1000 non-null   object \n",
      " 14  Road_Surface_Conditions     1000 non-null   object \n",
      " 15  Road_Type                   1000 non-null   object \n",
      " 16  Speed_limit                 1000 non-null   int64  \n",
      " 17  Time                        1000 non-null   object \n",
      " 18  Urban_or_Rural_Area         1000 non-null   object \n",
      " 19  Weather_Conditions          998 non-null    object \n",
      " 20  Vehicle_Type                1000 non-null   object \n",
      "dtypes: float64(2), int64(3), object(16)\n",
      "memory usage: 164.2+ KB\n"
     ]
    }
   ],
   "source": [
    "d.iloc[:1000]\n",
    "a=d.iloc[:1000]\n",
    "a.info()\n",
    "a.to_csv(r\"C:\\data analysis\\project\\RAs3.csv\")"
   ]
  },
  {
   "cell_type": "code",
   "execution_count": 186,
   "metadata": {},
   "outputs": [
    {
     "name": "stdout",
     "output_type": "stream",
     "text": [
      "<class 'pandas.core.frame.DataFrame'>\n",
      "RangeIndex: 1000 entries, 0 to 999\n",
      "Data columns (total 21 columns):\n",
      " #   Column                      Non-Null Count  Dtype         \n",
      "---  ------                      --------------  -----         \n",
      " 0   Accident_Index              1000 non-null   object        \n",
      " 1   Accident Date               1000 non-null   datetime64[ns]\n",
      " 2   Day_of_Week                 1000 non-null   object        \n",
      " 3   Junction_Control            1000 non-null   object        \n",
      " 4   Junction_Detail             1000 non-null   object        \n",
      " 5   Accident_Severity           1000 non-null   object        \n",
      " 6   Latitude                    1000 non-null   float64       \n",
      " 7   Light_Conditions            1000 non-null   object        \n",
      " 8   Local_Authority_(District)  1000 non-null   object        \n",
      " 9   Carriageway_Hazards         1000 non-null   object        \n",
      " 10  Longitude                   1000 non-null   float64       \n",
      " 11  Number_of_Casualties        1000 non-null   int64         \n",
      " 12  Number_of_Vehicles          1000 non-null   int64         \n",
      " 13  Police_Force                1000 non-null   object        \n",
      " 14  Road_Surface_Conditions     1000 non-null   object        \n",
      " 15  Road_Type                   1000 non-null   object        \n",
      " 16  Speed_limit                 1000 non-null   int64         \n",
      " 17  Time                        1000 non-null   datetime64[ns]\n",
      " 18  Urban_or_Rural_Area         1000 non-null   object        \n",
      " 19  Weather_Conditions          998 non-null    object        \n",
      " 20  Vehicle_Type                1000 non-null   object        \n",
      "dtypes: datetime64[ns](2), float64(2), int64(3), object(14)\n",
      "memory usage: 164.2+ KB\n"
     ]
    },
    {
     "name": "stderr",
     "output_type": "stream",
     "text": [
      "C:\\Users\\SHAHIN\\AppData\\Local\\Temp\\ipykernel_10700\\1510743981.py:1: SettingWithCopyWarning: \n",
      "A value is trying to be set on a copy of a slice from a DataFrame.\n",
      "Try using .loc[row_indexer,col_indexer] = value instead\n",
      "\n",
      "See the caveats in the documentation: https://pandas.pydata.org/pandas-docs/stable/user_guide/indexing.html#returning-a-view-versus-a-copy\n",
      "  a[\"Accident Date\"]=pd.to_datetime(a[\"Accident Date\"])\n",
      "C:\\Users\\SHAHIN\\AppData\\Local\\Temp\\ipykernel_10700\\1510743981.py:2: SettingWithCopyWarning: \n",
      "A value is trying to be set on a copy of a slice from a DataFrame.\n",
      "Try using .loc[row_indexer,col_indexer] = value instead\n",
      "\n",
      "See the caveats in the documentation: https://pandas.pydata.org/pandas-docs/stable/user_guide/indexing.html#returning-a-view-versus-a-copy\n",
      "  a[\"Time\"]=pd.to_datetime(a[\"Time\"])\n"
     ]
    }
   ],
   "source": [
    "a[\"Accident Date\"]=pd.to_datetime(a[\"Accident Date\"])\n",
    "a[\"Time\"]=pd.to_datetime(a[\"Time\"])\n",
    "a.info()"
   ]
  },
  {
   "cell_type": "code",
   "execution_count": 187,
   "metadata": {},
   "outputs": [
    {
     "data": {
      "text/plain": [
       "Accident_Index                0\n",
       "Accident Date                 0\n",
       "Day_of_Week                   0\n",
       "Junction_Control              0\n",
       "Junction_Detail               0\n",
       "Accident_Severity             0\n",
       "Latitude                      0\n",
       "Light_Conditions              0\n",
       "Local_Authority_(District)    0\n",
       "Carriageway_Hazards           0\n",
       "Longitude                     0\n",
       "Number_of_Casualties          0\n",
       "Number_of_Vehicles            0\n",
       "Police_Force                  0\n",
       "Road_Surface_Conditions       0\n",
       "Road_Type                     0\n",
       "Speed_limit                   0\n",
       "Time                          0\n",
       "Urban_or_Rural_Area           0\n",
       "Weather_Conditions            2\n",
       "Vehicle_Type                  0\n",
       "dtype: int64"
      ]
     },
     "execution_count": 187,
     "metadata": {},
     "output_type": "execute_result"
    }
   ],
   "source": [
    "a.isna().sum()"
   ]
  },
  {
   "cell_type": "code",
   "execution_count": 188,
   "metadata": {},
   "outputs": [
    {
     "name": "stdout",
     "output_type": "stream",
     "text": [
      "<bound method DataFrame.to_string of     Accident_Index Accident Date Day_of_Week              Junction_Control  \\\n",
      "0    200901BS70001    2021-01-01    Thursday      Give way or uncontrolled   \n",
      "1    200901BS70002    2021-01-05      Monday      Give way or uncontrolled   \n",
      "2    200901BS70003    2021-01-04      Sunday      Give way or uncontrolled   \n",
      "3    200901BS70004    2021-01-05      Monday           Auto traffic signal   \n",
      "4    200901BS70005    2021-01-06     Tuesday           Auto traffic signal   \n",
      "..             ...           ...         ...                           ...   \n",
      "995  200901CW10098    2021-02-05    Thursday      Give way or uncontrolled   \n",
      "996  200901CW10100    2021-02-05    Thursday  Data missing or out of range   \n",
      "997  200901CW10101    2021-02-05    Thursday           Auto traffic signal   \n",
      "998  200901CW10102    2021-02-05    Thursday           Auto traffic signal   \n",
      "999  200901CW10104    2021-02-05    Thursday           Auto traffic signal   \n",
      "\n",
      "                         Junction_Detail Accident_Severity   Latitude  \\\n",
      "0                T or staggered junction           Serious  51.512273   \n",
      "1                             Crossroads           Serious  51.514399   \n",
      "2                T or staggered junction            Slight  51.486668   \n",
      "3                T or staggered junction           Serious  51.507804   \n",
      "4                             Crossroads           Serious  51.482076   \n",
      "..                                   ...               ...        ...   \n",
      "995              T or staggered junction            Slight  51.507904   \n",
      "996  Not at junction or within 20 metres            Slight  51.508162   \n",
      "997              T or staggered junction            Slight  51.505771   \n",
      "998    More than 4 arms (not roundabout)            Slight  51.515684   \n",
      "999                           Crossroads            Slight  51.534801   \n",
      "\n",
      "          Light_Conditions Local_Authority_(District) Carriageway_Hazards  \\\n",
      "0                 Daylight     Kensington and Chelsea                None   \n",
      "1                 Daylight     Kensington and Chelsea                None   \n",
      "2                 Daylight     Kensington and Chelsea                None   \n",
      "3                 Daylight     Kensington and Chelsea                None   \n",
      "4    Darkness - lights lit     Kensington and Chelsea                None   \n",
      "..                     ...                        ...                 ...   \n",
      "995               Daylight                Westminster                None   \n",
      "996               Daylight                Westminster                None   \n",
      "997  Darkness - lights lit                Westminster                None   \n",
      "998               Daylight                     Camden                None   \n",
      "999  Darkness - lights lit                Westminster                None   \n",
      "\n",
      "     ...  Number_of_Casualties  Number_of_Vehicles         Police_Force  \\\n",
      "0    ...                     1                   2  Metropolitan Police   \n",
      "1    ...                    11                   2  Metropolitan Police   \n",
      "2    ...                     1                   2  Metropolitan Police   \n",
      "3    ...                     1                   2  Metropolitan Police   \n",
      "4    ...                     1                   2  Metropolitan Police   \n",
      "..   ...                   ...                 ...                  ...   \n",
      "995  ...                     1                   2  Metropolitan Police   \n",
      "996  ...                     1                   1  Metropolitan Police   \n",
      "997  ...                     1                   2  Metropolitan Police   \n",
      "998  ...                     1                   3  Metropolitan Police   \n",
      "999  ...                     1                   2  Metropolitan Police   \n",
      "\n",
      "    Road_Surface_Conditions           Road_Type Speed_limit  \\\n",
      "0                       Dry      One way street          30   \n",
      "1               Wet or damp  Single carriageway          30   \n",
      "2                       Dry  Single carriageway          30   \n",
      "3              Frost or ice  Single carriageway          30   \n",
      "4                       Dry  Single carriageway          30   \n",
      "..                      ...                 ...         ...   \n",
      "995                     Dry  Single carriageway          30   \n",
      "996             Wet or damp      One way street          30   \n",
      "997             Wet or damp  Single carriageway          30   \n",
      "998                    Snow      One way street          30   \n",
      "999                     Dry  Single carriageway          30   \n",
      "\n",
      "                   Time Urban_or_Rural_Area     Weather_Conditions  \\\n",
      "0   2025-02-12 15:11:00               Urban     Fine no high winds   \n",
      "1   2025-02-12 10:59:00               Urban     Fine no high winds   \n",
      "2   2025-02-12 14:19:00               Urban     Fine no high winds   \n",
      "3   2025-02-12 08:10:00               Urban                  Other   \n",
      "4   2025-02-12 17:25:00               Urban     Fine no high winds   \n",
      "..                  ...                 ...                    ...   \n",
      "995 2025-02-12 13:08:00               Urban     Fine no high winds   \n",
      "996 2025-02-12 16:30:00               Urban     Fine no high winds   \n",
      "997 2025-02-12 17:55:00               Urban                  Other   \n",
      "998 2025-02-12 12:30:00               Urban  Raining no high winds   \n",
      "999 2025-02-12 21:32:00               Urban     Fine no high winds   \n",
      "\n",
      "              Vehicle_Type  \n",
      "0                      Car  \n",
      "1    Taxi/Private hire car  \n",
      "2    Taxi/Private hire car  \n",
      "3    Motorcycle over 500cc  \n",
      "4                      Car  \n",
      "..                     ...  \n",
      "995                    Car  \n",
      "996                    Car  \n",
      "997                    Car  \n",
      "998                    Car  \n",
      "999                    Car  \n",
      "\n",
      "[1000 rows x 21 columns]>\n"
     ]
    },
    {
     "name": "stderr",
     "output_type": "stream",
     "text": [
      "C:\\Users\\SHAHIN\\AppData\\Local\\Temp\\ipykernel_10700\\482850562.py:1: SettingWithCopyWarning: \n",
      "A value is trying to be set on a copy of a slice from a DataFrame\n",
      "\n",
      "See the caveats in the documentation: https://pandas.pydata.org/pandas-docs/stable/user_guide/indexing.html#returning-a-view-versus-a-copy\n",
      "  a[\"Weather_Conditions\"].fillna(\"Other\",inplace=True)\n"
     ]
    }
   ],
   "source": [
    "a[\"Weather_Conditions\"].fillna(\"Other\",inplace=True)\n",
    "print(a.to_string)"
   ]
  },
  {
   "cell_type": "code",
   "execution_count": 189,
   "metadata": {},
   "outputs": [
    {
     "data": {
      "text/plain": [
       "Accident_Index                0\n",
       "Accident Date                 0\n",
       "Day_of_Week                   0\n",
       "Junction_Control              0\n",
       "Junction_Detail               0\n",
       "Accident_Severity             0\n",
       "Latitude                      0\n",
       "Light_Conditions              0\n",
       "Local_Authority_(District)    0\n",
       "Carriageway_Hazards           0\n",
       "Longitude                     0\n",
       "Number_of_Casualties          0\n",
       "Number_of_Vehicles            0\n",
       "Police_Force                  0\n",
       "Road_Surface_Conditions       0\n",
       "Road_Type                     0\n",
       "Speed_limit                   0\n",
       "Time                          0\n",
       "Urban_or_Rural_Area           0\n",
       "Weather_Conditions            0\n",
       "Vehicle_Type                  0\n",
       "dtype: int64"
      ]
     },
     "execution_count": 189,
     "metadata": {},
     "output_type": "execute_result"
    }
   ],
   "source": [
    "a.isna().sum()"
   ]
  },
  {
   "cell_type": "code",
   "execution_count": 190,
   "metadata": {},
   "outputs": [
    {
     "name": "stdout",
     "output_type": "stream",
     "text": [
      "    Accident_Index Accident_Date Day_of_Week              Junction_Control  \\\n",
      "0    200901BS70001    2021-01-01    Thursday      Give way or uncontrolled   \n",
      "1    200901BS70002    2021-01-05      Monday      Give way or uncontrolled   \n",
      "2    200901BS70003    2021-01-04      Sunday      Give way or uncontrolled   \n",
      "3    200901BS70004    2021-01-05      Monday           Auto traffic signal   \n",
      "4    200901BS70005    2021-01-06     Tuesday           Auto traffic signal   \n",
      "..             ...           ...         ...                           ...   \n",
      "995  200901CW10098    2021-02-05    Thursday      Give way or uncontrolled   \n",
      "996  200901CW10100    2021-02-05    Thursday  Data missing or out of range   \n",
      "997  200901CW10101    2021-02-05    Thursday           Auto traffic signal   \n",
      "998  200901CW10102    2021-02-05    Thursday           Auto traffic signal   \n",
      "999  200901CW10104    2021-02-05    Thursday           Auto traffic signal   \n",
      "\n",
      "                         Junction_Detail Accident_Severity   Latitude  \\\n",
      "0                T or staggered junction           Serious  51.512273   \n",
      "1                             Crossroads           Serious  51.514399   \n",
      "2                T or staggered junction            Slight  51.486668   \n",
      "3                T or staggered junction           Serious  51.507804   \n",
      "4                             Crossroads           Serious  51.482076   \n",
      "..                                   ...               ...        ...   \n",
      "995              T or staggered junction            Slight  51.507904   \n",
      "996  Not at junction or within 20 metres            Slight  51.508162   \n",
      "997              T or staggered junction            Slight  51.505771   \n",
      "998    More than 4 arms (not roundabout)            Slight  51.515684   \n",
      "999                           Crossroads            Slight  51.534801   \n",
      "\n",
      "          Light_Conditions Local_Authority_(District) Carriageway_Hazards  \\\n",
      "0                 Daylight     Kensington and Chelsea                None   \n",
      "1                 Daylight     Kensington and Chelsea                None   \n",
      "2                 Daylight     Kensington and Chelsea                None   \n",
      "3                 Daylight     Kensington and Chelsea                None   \n",
      "4    Darkness - lights lit     Kensington and Chelsea                None   \n",
      "..                     ...                        ...                 ...   \n",
      "995               Daylight                Westminster                None   \n",
      "996               Daylight                Westminster                None   \n",
      "997  Darkness - lights lit                Westminster                None   \n",
      "998               Daylight                     Camden                None   \n",
      "999  Darkness - lights lit                Westminster                None   \n",
      "\n",
      "     ...  Number_of_Casualties  Number_of_Vehicles         Police_Force  \\\n",
      "0    ...                     1                   2  Metropolitan Police   \n",
      "1    ...                    11                   2  Metropolitan Police   \n",
      "2    ...                     1                   2  Metropolitan Police   \n",
      "3    ...                     1                   2  Metropolitan Police   \n",
      "4    ...                     1                   2  Metropolitan Police   \n",
      "..   ...                   ...                 ...                  ...   \n",
      "995  ...                     1                   2  Metropolitan Police   \n",
      "996  ...                     1                   1  Metropolitan Police   \n",
      "997  ...                     1                   2  Metropolitan Police   \n",
      "998  ...                     1                   3  Metropolitan Police   \n",
      "999  ...                     1                   2  Metropolitan Police   \n",
      "\n",
      "    Road_Surface_Conditions           Road_Type Speed_limit  \\\n",
      "0                       Dry      One way street          30   \n",
      "1               Wet or damp  Single carriageway          30   \n",
      "2                       Dry  Single carriageway          30   \n",
      "3              Frost or ice  Single carriageway          30   \n",
      "4                       Dry  Single carriageway          30   \n",
      "..                      ...                 ...         ...   \n",
      "995                     Dry  Single carriageway          30   \n",
      "996             Wet or damp      One way street          30   \n",
      "997             Wet or damp  Single carriageway          30   \n",
      "998                    Snow      One way street          30   \n",
      "999                     Dry  Single carriageway          30   \n",
      "\n",
      "                   Time Urban_or_Rural_Area     Weather_Conditions  \\\n",
      "0   2025-02-12 15:11:00               Urban     Fine no high winds   \n",
      "1   2025-02-12 10:59:00               Urban     Fine no high winds   \n",
      "2   2025-02-12 14:19:00               Urban     Fine no high winds   \n",
      "3   2025-02-12 08:10:00               Urban                  Other   \n",
      "4   2025-02-12 17:25:00               Urban     Fine no high winds   \n",
      "..                  ...                 ...                    ...   \n",
      "995 2025-02-12 13:08:00               Urban     Fine no high winds   \n",
      "996 2025-02-12 16:30:00               Urban     Fine no high winds   \n",
      "997 2025-02-12 17:55:00               Urban                  Other   \n",
      "998 2025-02-12 12:30:00               Urban  Raining no high winds   \n",
      "999 2025-02-12 21:32:00               Urban     Fine no high winds   \n",
      "\n",
      "              Vehicle_Type  \n",
      "0                      Car  \n",
      "1    Taxi/Private hire car  \n",
      "2    Taxi/Private hire car  \n",
      "3    Motorcycle over 500cc  \n",
      "4                      Car  \n",
      "..                     ...  \n",
      "995                    Car  \n",
      "996                    Car  \n",
      "997                    Car  \n",
      "998                    Car  \n",
      "999                    Car  \n",
      "\n",
      "[1000 rows x 21 columns]\n"
     ]
    }
   ],
   "source": [
    "y=a.rename(columns={\"Accident Date\":\"Accident_Date\"})\n",
    "print(y)"
   ]
  },
  {
   "cell_type": "code",
   "execution_count": 191,
   "metadata": {},
   "outputs": [
    {
     "name": "stdout",
     "output_type": "stream",
     "text": [
      "<class 'pandas.core.frame.DataFrame'>\n",
      "RangeIndex: 1000 entries, 0 to 999\n",
      "Data columns (total 21 columns):\n",
      " #   Column                      Non-Null Count  Dtype         \n",
      "---  ------                      --------------  -----         \n",
      " 0   Accident_Index              1000 non-null   object        \n",
      " 1   Accident_Date               1000 non-null   datetime64[ns]\n",
      " 2   Day_of_Week                 1000 non-null   object        \n",
      " 3   Junction_Control            1000 non-null   object        \n",
      " 4   Junction_Detail             1000 non-null   object        \n",
      " 5   Accident_Severity           1000 non-null   object        \n",
      " 6   Latitude                    1000 non-null   float64       \n",
      " 7   Light_Conditions            1000 non-null   object        \n",
      " 8   Local_Authority_(District)  1000 non-null   object        \n",
      " 9   Carriageway_Hazards         1000 non-null   object        \n",
      " 10  Longitude                   1000 non-null   float64       \n",
      " 11  Number_of_Casualties        1000 non-null   int64         \n",
      " 12  Number_of_Vehicles          1000 non-null   int64         \n",
      " 13  Police_Force                1000 non-null   object        \n",
      " 14  Road_Surface_Conditions     1000 non-null   object        \n",
      " 15  Road_Type                   1000 non-null   object        \n",
      " 16  Speed_limit                 1000 non-null   int64         \n",
      " 17  Time                        1000 non-null   datetime64[ns]\n",
      " 18  Urban_or_Rural_Area         1000 non-null   object        \n",
      " 19  Weather_Conditions          1000 non-null   object        \n",
      " 20  Vehicle_Type                1000 non-null   object        \n",
      "dtypes: datetime64[ns](2), float64(2), int64(3), object(14)\n",
      "memory usage: 164.2+ KB\n"
     ]
    }
   ],
   "source": [
    "y.info()"
   ]
  },
  {
   "cell_type": "code",
   "execution_count": 192,
   "metadata": {},
   "outputs": [
    {
     "data": {
      "text/plain": [
       "0"
      ]
     },
     "execution_count": 192,
     "metadata": {},
     "output_type": "execute_result"
    }
   ],
   "source": [
    "a.duplicated().sum()"
   ]
  },
  {
   "cell_type": "markdown",
   "metadata": {},
   "source": [
    "1.How many accidents occurred on each day of the week?\n"
   ]
  },
  {
   "cell_type": "code",
   "execution_count": 193,
   "metadata": {},
   "outputs": [
    {
     "name": "stdout",
     "output_type": "stream",
     "text": [
      "Friday       186\n",
      "Tuesday      173\n",
      "Thursday     171\n",
      "Wednesday    159\n",
      "Monday       132\n",
      "Saturday      99\n",
      "Sunday        80\n",
      "Name: Day_of_Week, dtype: int64\n"
     ]
    }
   ],
   "source": [
    "y=a['Day_of_Week'].value_counts()\n",
    "print(y)"
   ]
  },
  {
   "cell_type": "markdown",
   "metadata": {},
   "source": [
    "2.in which day more accident occurred on a week?\n"
   ]
  },
  {
   "cell_type": "code",
   "execution_count": 194,
   "metadata": {},
   "outputs": [
    {
     "name": "stdout",
     "output_type": "stream",
     "text": [
      "Friday\n"
     ]
    }
   ],
   "source": [
    "y=a['Day_of_Week'].value_counts().idxmax()\n",
    "print(y)"
   ]
  },
  {
   "cell_type": "markdown",
   "metadata": {},
   "source": [
    "3.in which day less accident occurred on a week?\n"
   ]
  },
  {
   "cell_type": "code",
   "execution_count": 195,
   "metadata": {},
   "outputs": [
    {
     "name": "stdout",
     "output_type": "stream",
     "text": [
      "Sunday\n"
     ]
    }
   ],
   "source": [
    "y=a['Day_of_Week'].value_counts().idxmin()\n",
    "print(y)"
   ]
  },
  {
   "cell_type": "markdown",
   "metadata": {},
   "source": [
    "4.What is the average number of casualties per accident?"
   ]
  },
  {
   "cell_type": "code",
   "execution_count": 196,
   "metadata": {},
   "outputs": [
    {
     "name": "stdout",
     "output_type": "stream",
     "text": [
      "1.144\n"
     ]
    }
   ],
   "source": [
    "y=a['Number_of_Casualties'].mean()\n",
    "print(y)\n"
   ]
  },
  {
   "cell_type": "markdown",
   "metadata": {},
   "source": [
    "5.What is the most common type of vehicle involved in accidents?"
   ]
  },
  {
   "cell_type": "code",
   "execution_count": 197,
   "metadata": {},
   "outputs": [
    {
     "name": "stdout",
     "output_type": "stream",
     "text": [
      "Car\n"
     ]
    }
   ],
   "source": [
    "y=a['Vehicle_Type'].mode()[0]\n",
    "print(y)\n"
   ]
  },
  {
   "cell_type": "markdown",
   "metadata": {},
   "source": [
    "6.What is the total number of accidents in urban areas?"
   ]
  },
  {
   "cell_type": "code",
   "execution_count": 198,
   "metadata": {},
   "outputs": [
    {
     "name": "stdout",
     "output_type": "stream",
     "text": [
      "1000\n"
     ]
    }
   ],
   "source": [
    "y=a[a['Urban_or_Rural_Area'] == 'Urban'].shape[0]\n",
    "print(y)\n"
   ]
  },
  {
   "cell_type": "markdown",
   "metadata": {},
   "source": [
    "7.what is the total number of accident in rural areas?"
   ]
  },
  {
   "cell_type": "code",
   "execution_count": 199,
   "metadata": {},
   "outputs": [
    {
     "name": "stdout",
     "output_type": "stream",
     "text": [
      "0\n"
     ]
    }
   ],
   "source": [
    "y=a[a['Urban_or_Rural_Area'] == 'rural'].shape[0]\n",
    "print(y)\n"
   ]
  },
  {
   "cell_type": "markdown",
   "metadata": {},
   "source": [
    "8.What is the most common lighting condition during accidents?"
   ]
  },
  {
   "cell_type": "code",
   "execution_count": 200,
   "metadata": {},
   "outputs": [
    {
     "name": "stdout",
     "output_type": "stream",
     "text": [
      "Daylight\n"
     ]
    }
   ],
   "source": [
    "y=a['Light_Conditions'].mode()[0]\n",
    "print(y)\n"
   ]
  },
  {
   "cell_type": "markdown",
   "metadata": {},
   "source": [
    "9.What is the total number of accidents in each local authority district?"
   ]
  },
  {
   "cell_type": "code",
   "execution_count": 201,
   "metadata": {},
   "outputs": [
    {
     "name": "stdout",
     "output_type": "stream",
     "text": [
      "Local_Authority_(District)\n",
      "Brent                       1\n",
      "Camden                     26\n",
      "City of London            279\n",
      "Hackney                     3\n",
      "Hammersmith and Fulham      8\n",
      "Haringey                    1\n",
      "Hounslow                    1\n",
      "Kensington and Chelsea    628\n",
      "Southwark                   1\n",
      "Tower Hamlets               3\n",
      "Westminster                49\n",
      "dtype: int64\n"
     ]
    }
   ],
   "source": [
    "y=a.groupby('Local_Authority_(District)').size()\n",
    "print(y)"
   ]
  },
  {
   "cell_type": "markdown",
   "metadata": {},
   "source": [
    "10.Determine the average speed limit for accidents in the dataset?"
   ]
  },
  {
   "cell_type": "code",
   "execution_count": 202,
   "metadata": {},
   "outputs": [
    {
     "name": "stdout",
     "output_type": "stream",
     "text": [
      "30.12\n"
     ]
    }
   ],
   "source": [
    "\n",
    "y=a['Speed_limit'].mean()\n",
    "print(y)\n",
    "\n"
   ]
  },
  {
   "cell_type": "markdown",
   "metadata": {},
   "source": [
    "11.Which type of weather condition corresponds to the highest number of accidents?"
   ]
  },
  {
   "cell_type": "code",
   "execution_count": 203,
   "metadata": {},
   "outputs": [
    {
     "name": "stdout",
     "output_type": "stream",
     "text": [
      "Fine no high winds\n"
     ]
    }
   ],
   "source": [
    "\n",
    "y=a['Weather_Conditions'].value_counts().idxmax()\n",
    "print(y)\n"
   ]
  },
  {
   "cell_type": "markdown",
   "metadata": {},
   "source": [
    "12.which road type less accident occurs?"
   ]
  },
  {
   "cell_type": "code",
   "execution_count": 204,
   "metadata": {},
   "outputs": [
    {
     "name": "stdout",
     "output_type": "stream",
     "text": [
      "Roundabout\n"
     ]
    }
   ],
   "source": [
    "y=a['Road_Type'].value_counts().idxmin()\n",
    "print(y)"
   ]
  },
  {
   "cell_type": "markdown",
   "metadata": {},
   "source": [
    "13.which are the top 3 most common junction details where accident happens?"
   ]
  },
  {
   "cell_type": "code",
   "execution_count": 205,
   "metadata": {},
   "outputs": [
    {
     "name": "stdout",
     "output_type": "stream",
     "text": [
      "T or staggered junction                495\n",
      "Crossroads                             237\n",
      "Not at junction or within 20 metres    190\n",
      "Name: Junction_Detail, dtype: int64\n"
     ]
    }
   ],
   "source": [
    "\n",
    "y=a['Junction_Detail'].value_counts().head(3)\n",
    "print(y)\n"
   ]
  },
  {
   "cell_type": "markdown",
   "metadata": {},
   "source": [
    "14.How many accidents occurred in locations with a speed limit of 30 mph?"
   ]
  },
  {
   "cell_type": "code",
   "execution_count": 206,
   "metadata": {},
   "outputs": [
    {
     "name": "stdout",
     "output_type": "stream",
     "text": [
      "5\n"
     ]
    }
   ],
   "source": [
    "\n",
    "y=a[a['Speed_limit'] == 50].shape[0]\n",
    "print(y)\n",
    "\n"
   ]
  },
  {
   "cell_type": "markdown",
   "metadata": {},
   "source": [
    "15.Which local authority district had the highest number of accidents?"
   ]
  },
  {
   "cell_type": "code",
   "execution_count": 207,
   "metadata": {},
   "outputs": [
    {
     "name": "stdout",
     "output_type": "stream",
     "text": [
      "Kensington and Chelsea\n"
     ]
    }
   ],
   "source": [
    "y=a['Local_Authority_(District)'].value_counts().idxmax()\n",
    "print(y)"
   ]
  },
  {
   "cell_type": "markdown",
   "metadata": {},
   "source": [
    "conclusion"
   ]
  },
  {
   "cell_type": "markdown",
   "metadata": {},
   "source": [
    "In conclusion, the dataset on road accidents from January 2021 reveals key factors influencing accident frequency and severity, including weather conditions, road types, junction controls, and vehicle types. A high number of accidents occurred in urban areas, especially in certain junction types and under specific weather conditions, such as wet roads. Cars were the most involved vehicle type, but multi-vehicle accidents also contributed to higher casualties. The analysis highlights the need for improved safety measures in high-traffic urban areas, better junction management, and tailored interventions based on weather and vehicle types to enhance road safety."
   ]
  }
 ],
 "metadata": {
  "kernelspec": {
   "display_name": "base",
   "language": "python",
   "name": "python3"
  },
  "language_info": {
   "codemirror_mode": {
    "name": "ipython",
    "version": 3
   },
   "file_extension": ".py",
   "mimetype": "text/x-python",
   "name": "python",
   "nbconvert_exporter": "python",
   "pygments_lexer": "ipython3",
   "version": "3.10.9"
  }
 },
 "nbformat": 4,
 "nbformat_minor": 2
}
